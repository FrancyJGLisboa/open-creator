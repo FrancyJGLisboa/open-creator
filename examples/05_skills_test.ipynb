{
 "cells": [
  {
   "attachments": {},
   "cell_type": "markdown",
   "metadata": {},
   "source": [
    "#### Method: `test`\n",
    "Validate a skill using a tester agent and generate test summary\n",
    "\n",
    "recommend model: `gpt-4`"
   ]
  },
  {
   "cell_type": "code",
   "execution_count": 3,
   "metadata": {},
   "outputs": [],
   "source": [
    "from creator import create"
   ]
  },
  {
   "cell_type": "code",
   "execution_count": 4,
   "metadata": {},
   "outputs": [
    {
     "name": "stdout",
     "output_type": "stream",
     "text": [
      "\u001b[1m\u001b[36mask_run_code_confirm\u001b[m\u001b[m     \u001b[1m\u001b[36mextract_pdf_section\u001b[m\u001b[m      \u001b[1m\u001b[36mlist_python_functions\u001b[m\u001b[m\n",
      "\u001b[1m\u001b[36mcount_prime_numbers\u001b[m\u001b[m      \u001b[1m\u001b[36mextract_section_from_pdf\u001b[m\u001b[m \u001b[1m\u001b[36msolve_24\u001b[m\u001b[m\n",
      "\u001b[1m\u001b[36mcreate\u001b[m\u001b[m                   \u001b[1m\u001b[36mfilter_prime_numbers\u001b[m\u001b[m     \u001b[1m\u001b[36msolve_game_of_24\u001b[m\u001b[m\n",
      "\u001b[1m\u001b[36mcreate_api\u001b[m\u001b[m               \u001b[1m\u001b[36mgame_of_24\u001b[m\u001b[m\n",
      "\u001b[1m\u001b[36mdisplay_markdown_message\u001b[m\u001b[m \u001b[1m\u001b[36mgame_of_24_solver\u001b[m\u001b[m\n"
     ]
    }
   ],
   "source": [
    "!ls ~/.cache/open_creator/skill_library"
   ]
  },
  {
   "cell_type": "code",
   "execution_count": 5,
   "metadata": {},
   "outputs": [],
   "source": [
    "import os\n",
    "skill_path = os.path.join(os.path.expanduser(\"~\"), \".cache\", \"open_creator\", \"skill_library\", \"filter_prime_numbers\")\n",
    "skill = create(skill_path=skill_path)"
   ]
  },
  {
   "cell_type": "code",
   "execution_count": 6,
   "metadata": {},
   "outputs": [
    {
     "data": {
      "text/html": [
       "<pre style=\"white-space:pre;overflow-x:auto;line-height:normal;font-family:Menlo,'DejaVu Sans Mono',consolas,'Courier New',monospace\">\n",
       "                                                  <span style=\"font-weight: bold; text-decoration: underline\">Skill Details:</span>                                                   \n",
       "\n",
       "<span style=\"color: #808000; text-decoration-color: #808000; font-weight: bold\"> • </span><span style=\"font-weight: bold\">Name</span>: filter_prime_numbers                                                                                      \n",
       "<span style=\"color: #808000; text-decoration-color: #808000; font-weight: bold\"> • </span><span style=\"font-weight: bold\">Description</span>: This skill filters the number of prime numbers in a given range.                                   \n",
       "<span style=\"color: #808000; text-decoration-color: #808000; font-weight: bold\"> • </span><span style=\"font-weight: bold\">Version</span>: 1.0.0                                                                                                  \n",
       "<span style=\"color: #808000; text-decoration-color: #808000; font-weight: bold\"> • </span><span style=\"font-weight: bold\">Usage</span>:                                                                                                          \n",
       "\n",
       "<span style=\"background-color: #272822\">                                                                                                                   </span>\n",
       "<span style=\"background-color: #272822\"> </span><span style=\"color: #f8f8f2; text-decoration-color: #f8f8f2; background-color: #272822\">filter_prime_numbers(</span><span style=\"color: #ae81ff; text-decoration-color: #ae81ff; background-color: #272822\">2</span><span style=\"color: #f8f8f2; text-decoration-color: #f8f8f2; background-color: #272822\">, </span><span style=\"color: #ae81ff; text-decoration-color: #ae81ff; background-color: #272822\">201</span><span style=\"color: #f8f8f2; text-decoration-color: #f8f8f2; background-color: #272822\">)</span><span style=\"background-color: #272822\">                                                                                      </span>\n",
       "<span style=\"background-color: #272822\">                                                                                                                   </span>\n",
       "\n",
       "<span style=\"color: #808000; text-decoration-color: #808000; font-weight: bold\"> • </span><span style=\"font-weight: bold\">Parameters</span>:                                                                                                     \n",
       "<span style=\"color: #808000; text-decoration-color: #808000; font-weight: bold\">    • </span><span style=\"font-weight: bold\">start</span> (integer): The starting number of the range.                                                           \n",
       "<span style=\"color: #808000; text-decoration-color: #808000; font-weight: bold\">       • </span>Required: True                                                                                            \n",
       "<span style=\"color: #808000; text-decoration-color: #808000; font-weight: bold\">    • </span><span style=\"font-weight: bold\">end</span> (integer): The ending number of the range.                                                               \n",
       "<span style=\"color: #808000; text-decoration-color: #808000; font-weight: bold\">       • </span>Required: True                                                                                            \n",
       "<span style=\"color: #808000; text-decoration-color: #808000; font-weight: bold\"> • </span><span style=\"font-weight: bold\">Returns</span>:                                                                                                        \n",
       "<span style=\"color: #808000; text-decoration-color: #808000; font-weight: bold\">    • </span><span style=\"font-weight: bold\">count</span> (integer): The number of prime numbers in the given range.                                             \n",
       "</pre>\n"
      ],
      "text/plain": [
       "\n",
       "                                                  \u001b[1;4mSkill Details:\u001b[0m                                                   \n",
       "\n",
       "\u001b[1;33m • \u001b[0m\u001b[1mName\u001b[0m: filter_prime_numbers                                                                                      \n",
       "\u001b[1;33m • \u001b[0m\u001b[1mDescription\u001b[0m: This skill filters the number of prime numbers in a given range.                                   \n",
       "\u001b[1;33m • \u001b[0m\u001b[1mVersion\u001b[0m: 1.0.0                                                                                                  \n",
       "\u001b[1;33m • \u001b[0m\u001b[1mUsage\u001b[0m:                                                                                                          \n",
       "\n",
       "\u001b[48;2;39;40;34m                                                                                                                   \u001b[0m\n",
       "\u001b[48;2;39;40;34m \u001b[0m\u001b[38;2;248;248;242;48;2;39;40;34mfilter_prime_numbers\u001b[0m\u001b[38;2;248;248;242;48;2;39;40;34m(\u001b[0m\u001b[38;2;174;129;255;48;2;39;40;34m2\u001b[0m\u001b[38;2;248;248;242;48;2;39;40;34m,\u001b[0m\u001b[38;2;248;248;242;48;2;39;40;34m \u001b[0m\u001b[38;2;174;129;255;48;2;39;40;34m201\u001b[0m\u001b[38;2;248;248;242;48;2;39;40;34m)\u001b[0m\u001b[48;2;39;40;34m                                                                                     \u001b[0m\u001b[48;2;39;40;34m \u001b[0m\n",
       "\u001b[48;2;39;40;34m                                                                                                                   \u001b[0m\n",
       "\n",
       "\u001b[1;33m • \u001b[0m\u001b[1mParameters\u001b[0m:                                                                                                     \n",
       "\u001b[1;33m   \u001b[0m\u001b[1;33m • \u001b[0m\u001b[1mstart\u001b[0m (integer): The starting number of the range.                                                           \n",
       "\u001b[1;33m   \u001b[0m\u001b[1;33m   \u001b[0m\u001b[1;33m • \u001b[0mRequired: True                                                                                            \n",
       "\u001b[1;33m   \u001b[0m\u001b[1;33m • \u001b[0m\u001b[1mend\u001b[0m (integer): The ending number of the range.                                                               \n",
       "\u001b[1;33m   \u001b[0m\u001b[1;33m   \u001b[0m\u001b[1;33m • \u001b[0mRequired: True                                                                                            \n",
       "\u001b[1;33m • \u001b[0m\u001b[1mReturns\u001b[0m:                                                                                                        \n",
       "\u001b[1;33m   \u001b[0m\u001b[1;33m • \u001b[0m\u001b[1mcount\u001b[0m (integer): The number of prime numbers in the given range.                                             \n"
      ]
     },
     "metadata": {},
     "output_type": "display_data"
    }
   ],
   "source": [
    "skill.show()"
   ]
  },
  {
   "cell_type": "code",
   "execution_count": null,
   "metadata": {},
   "outputs": [],
   "source": [
    "test_summary = skill.test()"
   ]
  },
  {
   "attachments": {},
   "cell_type": "markdown",
   "metadata": {},
   "source": [
    "                                                                                                                                                                      \n",
    "                                                                                                                                                                         \n",
    "                                                                            Testing Strategy                                                                             \n",
    "                                                                                                                                                                         \n",
    "   1 Outline Clearly: I will begin by detailing my strategy.                                                                                                             \n",
    "   2 Clarify Tools: I will use unittest for Python and write test cases in a class called TestFilterPrimeNumbers.                                                        \n",
    "   3 Apply Iterative Testing Approach: I will adopt an iterative testing approach to ensure that my test cases are comprehensive and insightful.                         \n",
    "   4 Limit Test Case: I will aim to create up to 3-5 insightful test cases.                                                                                              \n",
    "   5 Provide Test Summary: Regardless of whether all test cases pass or fail, I will always conclude by utilizing the test_summary function to provide a comprehensive   \n",
    "     overview of the testing journey, ensuring complete transparency and clarity in communication.                                                                       \n",
    "                                                                                                                                                                         \n",
    "                                                                               Test Cases                                                                                \n",
    "                                                                                                                                                                         \n",
    "   1 Test Case 1: Test with a range from 2 to 10. The expected result is 4 because there are 4 prime numbers (2, 3, 5, 7) in this range.                                 \n",
    "   2 Test Case 2: Test with a range from 11 to 20. The expected result is 4 because there are 4 prime numbers (11, 13, 17, 19) in this range.                            \n",
    "   3 Test Case 3: Test with a range from 21 to 30. The expected result is 2 because there are 2 prime numbers (23, 29) in this range.                                    \n",
    "   4 Test Case 4: Test with a range from 31 to 40. The expected result is 2 because there are 2 prime numbers (31, 37) in this range.                                    \n",
    "   5 Test Case 5: Test with a range from 41 to 50. The expected result is 3 because there are 3 prime numbers (41, 43, 47) in this range.\n",
    "\n",
    "```python                                                                                                                                                         \n",
    "import unittest                                                                                                                                                        \n",
    "                                                                                                                                                                         \n",
    "class TestFilterPrimeNumbers(unittest.TestCase):                                                                                                                       \n",
    "    def test_case_1(self):                                                                                                                                             \n",
    "        self.assertEqual(filter_prime_numbers(2, 10), 4)                                                                                                               \n",
    "                                                                                                                                                                        \n",
    "    def test_case_2(self):                                                                                                                                             \n",
    "        self.assertEqual(filter_prime_numbers(11, 20), 4)                                                                                                              \n",
    "                                                                                                                                                                        \n",
    "    def test_case_3(self):                                                                                                                                             \n",
    "        self.assertEqual(filter_prime_numbers(21, 30), 2)                                                                                                              \n",
    "                                                                                                                                                                        \n",
    "    def test_case_4(self):                                                                                                                                             \n",
    "        self.assertEqual(filter_prime_numbers(31, 40), 2)                                                                                                              \n",
    "                                                                                                                                                                        \n",
    "    def test_case_5(self):                                                                                                                                             \n",
    "        self.assertEqual(filter_prime_numbers(41, 50), 3)                                                                                                              \n",
    "                                                                                                                                                                        \n",
    "unittest_result = unittest.TextTestRunner().run(unittest.TestLoader().loadTestsFromTestCase(TestFilterPrimeNumbers))                                                   \n",
    "unittest_result\n",
    "```\n",
    "\n",
    "```json\n",
    "{\"status\": \"success\", \"stdout\": \"<unittest.runner.TextTestResult run=5 errors=0 failures=0>\", \"stderr\": \"\"}\n",
    "```\n",
    "\n",
    "\n",
    "```json\n",
    "{                                                                                                                                                                      \n",
    "  \"test_cases\": [                                                                                                                                                      \n",
    "    {                                                                                                                                                                  \n",
    "      \"test_input\": \"2, 10\",                                                                                                                                           \n",
    "      \"run_command\": \"filter_prime_numbers(2, 10)\",                                                                                                                    \n",
    "      \"expected_result\": \"4\",                                                                                                                                          \n",
    "      \"actual_result\": \"4\",                                                                                                                                            \n",
    "      \"is_passed\": true                                                                                                                                                \n",
    "    },                                                                                                                                                                 \n",
    "    {                                                                                                                                                                  \n",
    "      \"test_input\": \"11, 20\",                                                                                                                                          \n",
    "      \"run_command\": \"filter_prime_numbers(11, 20)\",                                                                                                                   \n",
    "      \"expected_result\": \"4\",                                                                                                                                          \n",
    "      \"actual_result\": \"4\",                                                                                                                                            \n",
    "      \"is_passed\": true                                                                                                                                                \n",
    "    },                                                                                                                                                                 \n",
    "    {                                                                                                                                                                  \n",
    "      \"test_input\": \"21, 30\",                                                                                                                                          \n",
    "      \"run_command\": \"filter_prime_numbers(21, 30)\",                                                                                                                   \n",
    "      \"expected_result\": \"2\",                                                                                                                                          \n",
    "      \"actual_result\": \"2\",                                                                                                                                            \n",
    "      \"is_passed\": true                                                                                                                                                \n",
    "    },                                                                                                                                                                 \n",
    "    {                                                                                                                                                                  \n",
    "      \"test_input\": \"31, 40\",                                                                                                                                          \n",
    "      \"run_command\": \"filter_prime_numbers(31, 40)\",                                                                                                                   \n",
    "      \"expected_result\": \"2\",                                                                                                                                          \n",
    "      \"actual_result\": \"2\",                                                                                                                                            \n",
    "      \"is_passed\": true                                                                                                                                                \n",
    "    },                                                                                                                                                                 \n",
    "    {                                                                                                                                                                  \n",
    "      \"test_input\": \"41, 50\",                                                                                                                                          \n",
    "      \"run_command\": \"filter_prime_numbers(41, 50)\",                                                                                                                   \n",
    "      \"expected_result\": \"3\",                                                                                                                                          \n",
    "      \"actual_result\": \"3\",                                                                                                                                            \n",
    "      \"is_passed\": true                                                                                                                                                \n",
    "    }                                                                                                                                                                  \n",
    "  ]                                                                                                                                                                    \n",
    "} \n",
    "```"
   ]
  },
  {
   "cell_type": "code",
   "execution_count": null,
   "metadata": {},
   "outputs": [],
   "source": [
    "test_summary.show()"
   ]
  },
  {
   "attachments": {},
   "cell_type": "markdown",
   "metadata": {},
   "source": [
    "## Test Summary\n",
    "\n",
    "### Test Case 0\n",
    "\n",
    "- **Test Input:** 2, 10\n",
    "- **Run Command:** filter_prime_numbers(2, 10)\n",
    "- **Expected Result:** 4\n",
    "- **Actual Result:** 4\n",
    "- **Is Passed:** Yes\n",
    "\n",
    "---\n",
    "\n",
    "### Test Case 1\n",
    "\n",
    "- **Test Input:** 11, 20\n",
    "- **Run Command:** filter_prime_numbers(11, 20)\n",
    "- **Expected Result:** 4\n",
    "- **Actual Result:** 4\n",
    "- **Is Passed:** Yes\n",
    "\n",
    "---\n",
    "\n",
    "### Test Case 2\n",
    "\n",
    "- **Test Input:** 21, 30\n",
    "- **Run Command:** filter_prime_numbers(21, 30)\n",
    "- **Expected Result:** 2\n",
    "- **Actual Result:** 2\n",
    "- **Is Passed:** Yes\n",
    "\n",
    "---\n",
    "\n",
    "### Test Case 3\n",
    "\n",
    "- **Test Input:** 31, 40\n",
    "- **Run Command:** filter_prime_numbers(31, 40)\n",
    "- **Expected Result:** 2\n",
    "- **Actual Result:** 2\n",
    "- **Is Passed:** Yes\n",
    "\n",
    "---\n",
    "\n",
    "### Test Case 4\n",
    "\n",
    "- **Test Input:** 41, 50\n",
    "- **Run Command:** filter_prime_numbers(41, 50)\n",
    "- **Expected Result:** 3\n",
    "- **Actual Result:** 3\n",
    "- **Is Passed:** Yes\n",
    "\n",
    "---\n"
   ]
  }
 ],
 "metadata": {
  "kernelspec": {
   "display_name": "open_creator_online",
   "language": "python",
   "name": "python3"
  },
  "language_info": {
   "codemirror_mode": {
    "name": "ipython",
    "version": 3
   },
   "file_extension": ".py",
   "mimetype": "text/x-python",
   "name": "python",
   "nbconvert_exporter": "python",
   "pygments_lexer": "ipython3",
   "version": "3.10.0"
  },
  "orig_nbformat": 4
 },
 "nbformat": 4,
 "nbformat_minor": 2
}
